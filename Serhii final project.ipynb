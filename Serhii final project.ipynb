{
  "metadata": {
    "kernelspec": {
      "name": "python",
      "display_name": "Python (Pyodide)",
      "language": "python"
    },
    "language_info": {
      "codemirror_mode": {
        "name": "python",
        "version": 3
      },
      "file_extension": ".py",
      "mimetype": "text/x-python",
      "name": "python",
      "nbconvert_exporter": "python",
      "pygments_lexer": "ipython3",
      "version": "3.8"
    }
  },
  "nbformat_minor": 5,
  "nbformat": 4,
  "cells": [
    {
      "id": "42f0f002-6791-423d-9b8a-7dbf0ae5cb9e",
      "cell_type": "markdown",
      "source": "#  Serhii final project",
      "metadata": {}
    },
    {
      "id": "4c001cec-a444-4cf3-9aeb-01419d52216a",
      "cell_type": "markdown",
      "source": "## Introduction\nThis notebook demonstrates key elements of data science using JupyterLab.",
      "metadata": {
        "jp-MarkdownHeadingCollapsed": true
      }
    },
    {
      "id": "36ebd908-9674-4afe-9f9e-959d529142dc",
      "cell_type": "markdown",
      "source": "## Data Science Languages\n- Python\n- R\n- SQL\n- Julia",
      "metadata": {}
    },
    {
      "id": "b2912e1b-5298-4be9-8b87-e95f0bcbe216",
      "cell_type": "markdown",
      "source": "## Data Science Libraries\n- Pandas\n- NumPy\n- Matplotlib\n- Scikit-learn\n- TensorFlow\n",
      "metadata": {}
    },
    {
      "id": "9d35c6fb-77fa-493b-8829-9eeaf8e5392d",
      "cell_type": "markdown",
      "source": "## Data Science Tools\n\n| Tool             | Description                      |\n|------------------|----------------------------------|\n| Jupyter Notebook | Interactive computing platform  |\n| RStudio          | IDE for R programming           |\n| Apache Spark     | Distributed data processing tool|",
      "metadata": {}
    },
    {
      "id": "6c77cf55-7988-45fa-be19-4d1baaf25856",
      "cell_type": "markdown",
      "source": "## Arithmetic Expression Examples\nBelow are examples of basic arithmetic expressions.\n",
      "metadata": {}
    },
    {
      "id": "3386f330-92cd-453f-a89e-3604a67902b2",
      "cell_type": "code",
      "source": "result = (3 + 5)\nprint(result)\n\nprint((3 * 4))\n",
      "metadata": {
        "trusted": true
      },
      "outputs": [
        {
          "name": "stdout",
          "output_type": "stream",
          "text": "8\n12\n"
        }
      ],
      "execution_count": 5
    },
    {
      "id": "d916292a-889b-42ef-b434-a4968eab875b",
      "cell_type": "code",
      "source": "# Create a code cell to convert minutes to hours.\nminutes = 90\nhours = minutes / 60\nprint(f\"{minutes} minutes is == {hours} hours.\")\n",
      "metadata": {
        "trusted": true
      },
      "outputs": [
        {
          "name": "stdout",
          "output_type": "stream",
          "text": "90 minutes is == 1.5 hours.\n"
        }
      ],
      "execution_count": 7
    },
    {
      "id": "c27fa02c-f88f-40fd-a78c-4c497c0f8c3d",
      "cell_type": "markdown",
      "source": "## Objectives\n- Learn Markdown formatting in JupyterLab.\n- Perform basic arithmetic operations using Python.\n- Demonstrate knowledge of data science tools and libraries.\n",
      "metadata": {}
    },
    {
      "id": "9670106e-635b-4f0c-898b-ec14257a6dfa",
      "cell_type": "markdown",
      "source": "## Author\nSerhii\n",
      "metadata": {}
    }
  ]
}